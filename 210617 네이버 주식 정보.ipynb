{
 "cells": [
  {
   "cell_type": "markdown",
   "metadata": {},
   "source": [
    "### *이전 수업 복습"
   ]
  },
  {
   "cell_type": "code",
   "execution_count": 1,
   "metadata": {},
   "outputs": [],
   "source": [
    "from urllib.request import urlopen\n",
    "from bs4 import BeautifulSoup"
   ]
  },
  {
   "cell_type": "code",
   "execution_count": 2,
   "metadata": {},
   "outputs": [],
   "source": [
    "url = \"https://finance.naver.com/sise/\""
   ]
  },
  {
   "cell_type": "code",
   "execution_count": 3,
   "metadata": {},
   "outputs": [],
   "source": [
    "page = urlopen(url)\n",
    "page\n",
    "soup = BeautifulSoup(page, \"html.parser\")"
   ]
  },
  {
   "cell_type": "code",
   "execution_count": 4,
   "metadata": {},
   "outputs": [
    {
     "name": "stdout",
     "output_type": "stream",
     "text": [
      "998.33\n",
      "3,259.21\n",
      "433.94\n"
     ]
    }
   ],
   "source": [
    "print( soup.find('span', id='KOSDAQ_now').text )  # 코스닥\n",
    "print( soup.find('span', id='KOSPI_now').text  )  # 코스닥\n",
    "print( soup.find('span', id='KPI200_now').text )  # 코스닥"
   ]
  },
  {
   "cell_type": "markdown",
   "metadata": {},
   "source": [
    "## 종목의 현재가 가져오기"
   ]
  },
  {
   "cell_type": "code",
   "execution_count": 11,
   "metadata": {},
   "outputs": [],
   "source": [
    "## 삼성전자 : 005930\n",
    "## 카카오   : 035720\n",
    "## 유한양행 : 000100"
   ]
  },
  {
   "cell_type": "code",
   "execution_count": 12,
   "metadata": {},
   "outputs": [],
   "source": [
    "my_stock = ['삼성전자', '카카오', '유한양행', 'NAVER']\n",
    "my_stock_code = ['005930','035720', '000100', '035420']"
   ]
  },
  {
   "cell_type": "code",
   "execution_count": 5,
   "metadata": {},
   "outputs": [
    {
     "data": {
      "text/plain": [
       "<title>유한양행 : 네이버 금융</title>"
      ]
     },
     "execution_count": 5,
     "metadata": {},
     "output_type": "execute_result"
    }
   ],
   "source": [
    "chk_url = 'https://finance.naver.com/item/main.nhn?code=000100'\n",
    "page = urlopen(chk_url)\n",
    "soup = BeautifulSoup(page, 'lxml')\n",
    "soup.title"
   ]
  },
  {
   "cell_type": "code",
   "execution_count": 6,
   "metadata": {},
   "outputs": [
    {
     "data": {
      "text/plain": [
       "'63,100'"
      ]
     },
     "execution_count": 6,
     "metadata": {},
     "output_type": "execute_result"
    }
   ],
   "source": [
    "soup.find(\"p\", class_='no_today').find(\"span\", class_=\"blind\").text"
   ]
  },
  {
   "cell_type": "code",
   "execution_count": 7,
   "metadata": {},
   "outputs": [
    {
     "data": {
      "text/plain": [
       "['\\n',\n",
       " <em class=\"no_down\">\n",
       " <span class=\"blind\">63,100</span>\n",
       " <span class=\"no6\">6</span><span class=\"no3\">3</span><span class=\"shim\">,</span><span class=\"no1\">1</span><span class=\"no0\">0</span><span class=\"no0\">0</span>\n",
       " </em>,\n",
       " '\\n']"
      ]
     },
     "execution_count": 7,
     "metadata": {},
     "output_type": "execute_result"
    }
   ],
   "source": [
    "list(soup.find(\"p\", class_=\"no_today\").children)"
   ]
  },
  {
   "cell_type": "code",
   "execution_count": 8,
   "metadata": {},
   "outputs": [
    {
     "data": {
      "text/plain": [
       "['\\n',\n",
       " <span class=\"blind\">63,100</span>,\n",
       " '\\n',\n",
       " <span class=\"no6\">6</span>,\n",
       " <span class=\"no3\">3</span>,\n",
       " <span class=\"shim\">,</span>,\n",
       " <span class=\"no1\">1</span>,\n",
       " <span class=\"no0\">0</span>,\n",
       " <span class=\"no0\">0</span>,\n",
       " '\\n']"
      ]
     },
     "execution_count": 8,
     "metadata": {},
     "output_type": "execute_result"
    }
   ],
   "source": [
    "t = list(soup.find(\"p\", class_=\"no_today\").em.children)\n",
    "t"
   ]
  },
  {
   "cell_type": "code",
   "execution_count": 9,
   "metadata": {},
   "outputs": [],
   "source": [
    "my_stock = ['삼성전자', '카카오', '유한양행', 'NAVER']\n",
    "my_stock_code = ['005930','035720', '000100', '035420']\n",
    "base_url = \"https://finance.naver.com/item/main.nhn?code=\""
   ]
  },
  {
   "cell_type": "code",
   "execution_count": 21,
   "metadata": {},
   "outputs": [
    {
     "name": "stdout",
     "output_type": "stream",
     "text": [
      "삼성전자 80,800\n",
      "카카오 144,000\n",
      "유한양행 63,100\n",
      "NAVER 388,500\n"
     ]
    }
   ],
   "source": [
    "for idx, code in enumerate( my_stock_code ):   #enumerate : index,코드 값을 가져옴\n",
    "    \n",
    "    all_url = base_url + code\n",
    "    page = urlopen(all_url)\n",
    "    soup = BeautifulSoup(page, 'lxml')\n",
    "    \n",
    "    ## 현재가\n",
    "    tmp = soup.find(\"p\", class_=\"no_today\")\n",
    "    price = tmp.find(\"span\", class_=\"blind\").text\n",
    "    \n",
    "    print(my_stock[idx],price)"
   ]
  },
  {
   "cell_type": "markdown",
   "metadata": {},
   "source": [
    "## 실습1\n",
    "#### 관심 있는 종목 5개 선정, 코드 확인. 현재가, 거래량 뽑아오기"
   ]
  },
  {
   "cell_type": "code",
   "execution_count": 23,
   "metadata": {},
   "outputs": [],
   "source": [
    "my_stock = ['삼성전자', '카카오', '유한양행', 'NAVER','현대차']\n",
    "my_stock_code = ['005930','035720', '000100', '035420','005380']\n",
    "base_url = \"https://finance.naver.com/item/main.nhn?code=\""
   ]
  },
  {
   "cell_type": "code",
   "execution_count": 24,
   "metadata": {},
   "outputs": [
    {
     "name": "stdout",
     "output_type": "stream",
     "text": [
      "삼성전자 80,800\n",
      "카카오 145,500\n",
      "유한양행 63,100\n",
      "NAVER 391,000\n",
      "현대차 237,000\n"
     ]
    }
   ],
   "source": [
    "for idx, code in enumerate( my_stock_code ):   #enumerate : index,코드 값을 가져옴\n",
    "    \n",
    "    all_url = base_url + code\n",
    "    page = urlopen(all_url)\n",
    "    soup = BeautifulSoup(page, 'lxml')\n",
    "    \n",
    "    ## 현재가\n",
    "    tmp = soup.find(\"p\", class_=\"no_today\")\n",
    "    price = tmp.find(\"span\", class_=\"blind\").text\n",
    "    \n",
    "    print(my_stock[idx], price)"
   ]
  },
  {
   "cell_type": "markdown",
   "metadata": {},
   "source": [
    "#### 거래량 숫자까지 표시하고 싶을 때, \n",
    "1) .find_next(\"span\", class_=\"blind\").text\n",
    "또는 2) .find_next(\"span\").text\n",
    "#### .find_next는 소스코드 내에서 현재 요소 다음에 나오는 요소들 중 일치하는 요소를 찾아줌 \n",
    "#### 현재 요소 밑에 부분에서만 find를 하는 것!"
   ]
  },
  {
   "cell_type": "code",
   "execution_count": 26,
   "metadata": {},
   "outputs": [
    {
     "name": "stdout",
     "output_type": "stream",
     "text": [
      "삼성전자 6,148,749\n",
      "카카오 2,167,498\n",
      "유한양행 116,175\n",
      "NAVER 285,538\n",
      "현대차 309,798\n"
     ]
    }
   ],
   "source": [
    "for idx, code in enumerate( my_stock_code ):   #enumerate : index,코드 값을 가져옴\n",
    "    \n",
    "    all_url = base_url + code\n",
    "    page = urlopen(all_url)\n",
    "    soup = BeautifulSoup(page, 'lxml')\n",
    "    \n",
    "    ## 거래량\n",
    "    vol = soup.find(\"div\", class_=\"rate_info\")\n",
    "    now_vol = vol.find(\"span\", class_=\"sptxt sp_txt9\").find_next(\"span\").text\n",
    "    \n",
    "    print(my_stock[idx], now_vol)"
   ]
  },
  {
   "cell_type": "code",
   "execution_count": null,
   "metadata": {},
   "outputs": [],
   "source": []
  },
  {
   "cell_type": "code",
   "execution_count": null,
   "metadata": {},
   "outputs": [],
   "source": []
  },
  {
   "cell_type": "code",
   "execution_count": null,
   "metadata": {},
   "outputs": [],
   "source": []
  },
  {
   "cell_type": "code",
   "execution_count": null,
   "metadata": {},
   "outputs": [],
   "source": []
  },
  {
   "cell_type": "code",
   "execution_count": null,
   "metadata": {},
   "outputs": [],
   "source": []
  }
 ],
 "metadata": {
  "kernelspec": {
   "display_name": "Python 3",
   "language": "python",
   "name": "python3"
  },
  "language_info": {
   "codemirror_mode": {
    "name": "ipython",
    "version": 3
   },
   "file_extension": ".py",
   "mimetype": "text/x-python",
   "name": "python",
   "nbconvert_exporter": "python",
   "pygments_lexer": "ipython3",
   "version": "3.8.5"
  }
 },
 "nbformat": 4,
 "nbformat_minor": 4
}
