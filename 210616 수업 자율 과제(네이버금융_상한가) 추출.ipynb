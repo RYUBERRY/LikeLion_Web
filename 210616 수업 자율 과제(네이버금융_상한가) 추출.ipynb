{
 "cells": [
  {
   "cell_type": "markdown",
   "metadata": {},
   "source": [
    "### 자율과제(210616 class 복습) - 제출:구글드라이브\n",
    "* Top 종목에 있는 정보 메뉴(상한가, 하한가 등)중 선택해서 가져와서 csv파일로 정리하기."
   ]
  },
  {
   "cell_type": "code",
   "execution_count": 21,
   "metadata": {},
   "outputs": [
    {
     "data": {
      "text/plain": [
       "<title>국내증시 : 네이버 금융</title>"
      ]
     },
     "execution_count": 21,
     "metadata": {},
     "output_type": "execute_result"
    }
   ],
   "source": [
    "from urllib.request import urlopen\n",
    "from bs4 import BeautifulSoup\n",
    "import pandas as pd\n",
    "\n",
    "url = \"https://finance.naver.com/sise/\"\n",
    "page = urlopen(url)\n",
    "soup = BeautifulSoup(page, \"html.parser\")\n",
    "\n",
    "soup.title"
   ]
  },
  {
   "cell_type": "code",
   "execution_count": 32,
   "metadata": {},
   "outputs": [
    {
     "data": {
      "text/plain": [
       "[<td class=\"blank_08\" colspan=\"10\"></td>,\n",
       " <td class=\"tc\"><img alt=\"01\" height=\"11\" src=\"https://ssl.pstatic.net/imgstock/images5/ico_n01.gif\" width=\"11\"/></td>,\n",
       " <td class=\"number\">2</td>,\n",
       " <td class=\"number\">4</td>,\n",
       " <td><a class=\"tltle\" href=\"/item/main.nhn?code=006345\" onclick=\"clickcr(this, 'bqu.2', '006345', '1', event)\">대원전선우</a></td>,\n",
       " <td class=\"number\">6,050</td>,\n",
       " <td class=\"number\">\n",
       " <em class=\"bu_p bu_pup2\" style=\"margin:0 4px 0 0\"><span class=\"blind\">상한</span></em><span class=\"tah p11 red01\">\n",
       " \t\t\t\t1,390\n",
       " \t\t\t\t</span>\n",
       " </td>,\n",
       " <td class=\"number\">\n",
       " <span class=\"tah p11 red01\">\n",
       " \t\t\t\t+29.83%\n",
       " \t\t\t\t</span>\n",
       " </td>,\n",
       " <td class=\"number\">860,445</td>,\n",
       " <td class=\"number\">5,410</td>,\n",
       " <td class=\"number\">6,050</td>,\n",
       " <td class=\"number\">5,410</td>,\n",
       " <td class=\"tc\"><img alt=\"01\" height=\"11\" src=\"https://ssl.pstatic.net/imgstock/images5/ico_n02.gif\" width=\"11\"/></td>,\n",
       " <td class=\"number\">1</td>,\n",
       " <td class=\"number\">1</td>,\n",
       " <td><a class=\"tltle\" href=\"/item/main.nhn?code=036180\" onclick=\"clickcr(this, 'bqu.2', '036180', '2', event)\">지더블유바이텍</a></td>,\n",
       " <td class=\"number\">3,130</td>,\n",
       " <td class=\"number\">\n",
       " <em class=\"bu_p bu_pup2\" style=\"margin:0 4px 0 0\"><span class=\"blind\">상한</span></em><span class=\"tah p11 red01\">\n",
       " \t\t\t\t720\n",
       " \t\t\t\t</span>\n",
       " </td>,\n",
       " <td class=\"number\">\n",
       " <span class=\"tah p11 red01\">\n",
       " \t\t\t\t+29.88%\n",
       " \t\t\t\t</span>\n",
       " </td>,\n",
       " <td class=\"number\">373,914</td>,\n",
       " <td class=\"number\">2,410</td>,\n",
       " <td class=\"number\">3,130</td>,\n",
       " <td class=\"number\">2,410</td>,\n",
       " <td class=\"tc\"><img alt=\"01\" height=\"11\" src=\"https://ssl.pstatic.net/imgstock/images5/ico_n03.gif\" width=\"11\"/></td>,\n",
       " <td class=\"number\">1</td>,\n",
       " <td class=\"number\">2</td>,\n",
       " <td><a class=\"tltle\" href=\"/item/main.nhn?code=043910\" onclick=\"clickcr(this, 'bqu.2', '043910', '3', event)\">자연과환경</a></td>,\n",
       " <td class=\"number\">2,780</td>,\n",
       " <td class=\"number\">\n",
       " <em class=\"bu_p bu_pup2\" style=\"margin:0 4px 0 0\"><span class=\"blind\">상한</span></em><span class=\"tah p11 red01\">\n",
       " \t\t\t\t640\n",
       " \t\t\t\t</span>\n",
       " </td>,\n",
       " <td class=\"number\">\n",
       " <span class=\"tah p11 red01\">\n",
       " \t\t\t\t+29.91%\n",
       " \t\t\t\t</span>\n",
       " </td>,\n",
       " <td class=\"number\">48,692,956</td>,\n",
       " <td class=\"number\">2,205</td>,\n",
       " <td class=\"number\">2,780</td>,\n",
       " <td class=\"number\">2,195</td>,\n",
       " <td class=\"tc\"><img alt=\"01\" height=\"11\" src=\"https://ssl.pstatic.net/imgstock/images5/ico_n04.gif\" width=\"11\"/></td>,\n",
       " <td class=\"number\">1</td>,\n",
       " <td class=\"number\">1</td>,\n",
       " <td><a class=\"tltle\" href=\"/item/main.nhn?code=079940\" onclick=\"clickcr(this, 'bqu.2', '079940', '4', event)\">가비아</a></td>,\n",
       " <td class=\"number\">19,100</td>,\n",
       " <td class=\"number\">\n",
       " <em class=\"bu_p bu_pup2\" style=\"margin:0 4px 0 0\"><span class=\"blind\">상한</span></em><span class=\"tah p11 red01\">\n",
       " \t\t\t\t4,400\n",
       " \t\t\t\t</span>\n",
       " </td>,\n",
       " <td class=\"number\">\n",
       " <span class=\"tah p11 red01\">\n",
       " \t\t\t\t+29.93%\n",
       " \t\t\t\t</span>\n",
       " </td>,\n",
       " <td class=\"number\">12,452,113</td>,\n",
       " <td class=\"number\">14,800</td>,\n",
       " <td class=\"number\">19,100</td>,\n",
       " <td class=\"number\">14,500</td>,\n",
       " <td class=\"tc\"><img alt=\"01\" height=\"11\" src=\"https://ssl.pstatic.net/imgstock/images5/ico_n05.gif\" width=\"11\"/></td>,\n",
       " <td class=\"number\">1</td>,\n",
       " <td class=\"number\">1</td>,\n",
       " <td><a class=\"tltle\" href=\"/item/main.nhn?code=090150\" onclick=\"clickcr(this, 'bqu.2', '090150', '5', event)\">광진윈텍</a></td>,\n",
       " <td class=\"number\">5,410</td>,\n",
       " <td class=\"number\">\n",
       " <em class=\"bu_p bu_pup2\" style=\"margin:0 4px 0 0\"><span class=\"blind\">상한</span></em><span class=\"tah p11 red01\">\n",
       " \t\t\t\t1,245\n",
       " \t\t\t\t</span>\n",
       " </td>,\n",
       " <td class=\"number\">\n",
       " <span class=\"tah p11 red01\">\n",
       " \t\t\t\t+29.89%\n",
       " \t\t\t\t</span>\n",
       " </td>,\n",
       " <td class=\"number\">1,233,708</td>,\n",
       " <td class=\"number\">4,780</td>,\n",
       " <td class=\"number\">5,410</td>,\n",
       " <td class=\"number\">4,530</td>,\n",
       " <td class=\"blank_06\" colspan=\"10\"></td>,\n",
       " <td class=\"division_line\" colspan=\"10\"></td>,\n",
       " <td class=\"blank_08\" colspan=\"10\"></td>,\n",
       " <td class=\"tc\"><img alt=\"01\" height=\"11\" src=\"https://ssl.pstatic.net/imgstock/images5/ico_n06.gif\" width=\"11\"/></td>,\n",
       " <td class=\"number\">1</td>,\n",
       " <td class=\"number\">3</td>,\n",
       " <td><a class=\"tltle\" href=\"/item/main.nhn?code=130660\" onclick=\"clickcr(this, 'bqu.2', '130660', '6', event)\">한전산업</a></td>,\n",
       " <td class=\"number\">11,100</td>,\n",
       " <td class=\"number\">\n",
       " <em class=\"bu_p bu_pup2\" style=\"margin:0 4px 0 0\"><span class=\"blind\">상한</span></em><span class=\"tah p11 red01\">\n",
       " \t\t\t\t2,550\n",
       " \t\t\t\t</span>\n",
       " </td>,\n",
       " <td class=\"number\">\n",
       " <span class=\"tah p11 red01\">\n",
       " \t\t\t\t+29.82%\n",
       " \t\t\t\t</span>\n",
       " </td>,\n",
       " <td class=\"number\">36,451,207</td>,\n",
       " <td class=\"number\">8,500</td>,\n",
       " <td class=\"number\">11,100</td>,\n",
       " <td class=\"number\">8,420</td>,\n",
       " <td class=\"tc\"><img alt=\"01\" height=\"11\" src=\"https://ssl.pstatic.net/imgstock/images5/ico_n07.gif\" width=\"11\"/></td>,\n",
       " <td class=\"number\">1</td>,\n",
       " <td class=\"number\">9</td>,\n",
       " <td><a class=\"tltle\" href=\"/item/main.nhn?code=311060\" onclick=\"clickcr(this, 'bqu.2', '311060', '7', event)\">엘에이티</a></td>,\n",
       " <td class=\"number\">4,380</td>,\n",
       " <td class=\"number\">\n",
       " <em class=\"bu_p bu_pup2\" style=\"margin:0 4px 0 0\"><span class=\"blind\">상한</span></em><span class=\"tah p11 red01\">\n",
       " \t\t\t\t570\n",
       " \t\t\t\t</span>\n",
       " </td>,\n",
       " <td class=\"number\">\n",
       " <span class=\"tah p11 red01\">\n",
       " \t\t\t\t+14.96%\n",
       " \t\t\t\t</span>\n",
       " </td>,\n",
       " <td class=\"number\">209</td>,\n",
       " <td class=\"number\">3,810</td>,\n",
       " <td class=\"number\">4,380</td>,\n",
       " <td class=\"number\">3,255</td>,\n",
       " <td class=\"blank_06\" colspan=\"10\"></td>,\n",
       " <td class=\"division_line\" colspan=\"10\"></td>]"
      ]
     },
     "execution_count": 32,
     "metadata": {},
     "output_type": "execute_result"
    }
   ],
   "source": [
    "Top = soup.find(\"table\", id=\"siselist_tab_0\")\n",
    "Top_all = Top.findAll(\"td\")\n",
    "Top_all"
   ]
  },
  {
   "cell_type": "code",
   "execution_count": 63,
   "metadata": {},
   "outputs": [
    {
     "name": "stdout",
     "output_type": "stream",
     "text": [
      "대원전선우\n"
     ]
    }
   ],
   "source": [
    "print(Top_all[4].find(\"a\").text)\n"
   ]
  },
  {
   "cell_type": "code",
   "execution_count": null,
   "metadata": {},
   "outputs": [],
   "source": []
  },
  {
   "cell_type": "code",
   "execution_count": null,
   "metadata": {},
   "outputs": [],
   "source": []
  },
  {
   "cell_type": "code",
   "execution_count": null,
   "metadata": {},
   "outputs": [],
   "source": []
  },
  {
   "cell_type": "code",
   "execution_count": null,
   "metadata": {},
   "outputs": [],
   "source": []
  },
  {
   "cell_type": "code",
   "execution_count": null,
   "metadata": {},
   "outputs": [],
   "source": []
  },
  {
   "cell_type": "code",
   "execution_count": null,
   "metadata": {},
   "outputs": [],
   "source": []
  },
  {
   "cell_type": "code",
   "execution_count": null,
   "metadata": {},
   "outputs": [],
   "source": []
  },
  {
   "cell_type": "code",
   "execution_count": null,
   "metadata": {},
   "outputs": [],
   "source": []
  },
  {
   "cell_type": "code",
   "execution_count": null,
   "metadata": {},
   "outputs": [],
   "source": []
  },
  {
   "cell_type": "code",
   "execution_count": null,
   "metadata": {},
   "outputs": [],
   "source": []
  },
  {
   "cell_type": "code",
   "execution_count": null,
   "metadata": {},
   "outputs": [],
   "source": []
  },
  {
   "cell_type": "code",
   "execution_count": null,
   "metadata": {},
   "outputs": [],
   "source": []
  }
 ],
 "metadata": {
  "kernelspec": {
   "display_name": "Python 3",
   "language": "python",
   "name": "python3"
  },
  "language_info": {
   "codemirror_mode": {
    "name": "ipython",
    "version": 3
   },
   "file_extension": ".py",
   "mimetype": "text/x-python",
   "name": "python",
   "nbconvert_exporter": "python",
   "pygments_lexer": "ipython3",
   "version": "3.8.5"
  }
 },
 "nbformat": 4,
 "nbformat_minor": 4
}
